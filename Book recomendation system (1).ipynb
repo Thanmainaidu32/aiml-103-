{
 "cells": [
  {
   "cell_type": "code",
   "execution_count": 1,
   "id": "9362cee2-bb6f-40eb-9365-a0863ac8c4a4",
   "metadata": {},
   "outputs": [],
   "source": [
    "import pandas as pd\n",
    "import numpy as np\n",
    "import matplotlib.pyplot as plt\n",
    "import seaborn as sns"
   ]
  },
  {
   "cell_type": "code",
   "execution_count": 2,
   "id": "3b6c5ca4-252d-4140-b7ea-ace0914beee5",
   "metadata": {},
   "outputs": [
    {
     "name": "stderr",
     "output_type": "stream",
     "text": [
      "C:\\Users\\rishi\\AppData\\Local\\Temp\\ipykernel_4472\\2150644864.py:1: DtypeWarning: Columns (5) have mixed types. Specify dtype option on import or set low_memory=False.\n",
      "  book_df = pd.read_csv(\"Ratings.csv\")\n"
     ]
    },
    {
     "data": {
      "text/html": [
       "<div>\n",
       "<style scoped>\n",
       "    .dataframe tbody tr th:only-of-type {\n",
       "        vertical-align: middle;\n",
       "    }\n",
       "\n",
       "    .dataframe tbody tr th {\n",
       "        vertical-align: top;\n",
       "    }\n",
       "\n",
       "    .dataframe thead th {\n",
       "        text-align: right;\n",
       "    }\n",
       "</style>\n",
       "<table border=\"1\" class=\"dataframe\">\n",
       "  <thead>\n",
       "    <tr style=\"text-align: right;\">\n",
       "      <th></th>\n",
       "      <th>User-ID</th>\n",
       "      <th>ISBN</th>\n",
       "      <th>Book-Rating</th>\n",
       "      <th>Book-Title</th>\n",
       "      <th>Book-Author</th>\n",
       "      <th>Year-Of-Publication</th>\n",
       "      <th>Publisher</th>\n",
       "      <th>Image-URL-S</th>\n",
       "      <th>Image-URL-M</th>\n",
       "      <th>Image-URL-L</th>\n",
       "      <th>Location</th>\n",
       "      <th>Age</th>\n",
       "    </tr>\n",
       "  </thead>\n",
       "  <tbody>\n",
       "    <tr>\n",
       "      <th>0</th>\n",
       "      <td>276725</td>\n",
       "      <td>034545104X</td>\n",
       "      <td>0</td>\n",
       "      <td>Flesh Tones: A Novel</td>\n",
       "      <td>M. J. Rose</td>\n",
       "      <td>2002</td>\n",
       "      <td>Ballantine Books</td>\n",
       "      <td>http://images.amazon.com/images/P/034545104X.0...</td>\n",
       "      <td>http://images.amazon.com/images/P/034545104X.0...</td>\n",
       "      <td>http://images.amazon.com/images/P/034545104X.0...</td>\n",
       "      <td>tyler, texas, usa</td>\n",
       "      <td>NaN</td>\n",
       "    </tr>\n",
       "    <tr>\n",
       "      <th>1</th>\n",
       "      <td>2313</td>\n",
       "      <td>034545104X</td>\n",
       "      <td>5</td>\n",
       "      <td>Flesh Tones: A Novel</td>\n",
       "      <td>M. J. Rose</td>\n",
       "      <td>2002</td>\n",
       "      <td>Ballantine Books</td>\n",
       "      <td>http://images.amazon.com/images/P/034545104X.0...</td>\n",
       "      <td>http://images.amazon.com/images/P/034545104X.0...</td>\n",
       "      <td>http://images.amazon.com/images/P/034545104X.0...</td>\n",
       "      <td>cincinnati, ohio, usa</td>\n",
       "      <td>23.0</td>\n",
       "    </tr>\n",
       "    <tr>\n",
       "      <th>2</th>\n",
       "      <td>2313</td>\n",
       "      <td>0812533550</td>\n",
       "      <td>9</td>\n",
       "      <td>Ender's Game (Ender Wiggins Saga (Paperback))</td>\n",
       "      <td>Orson Scott Card</td>\n",
       "      <td>1986</td>\n",
       "      <td>Tor Books</td>\n",
       "      <td>http://images.amazon.com/images/P/0812533550.0...</td>\n",
       "      <td>http://images.amazon.com/images/P/0812533550.0...</td>\n",
       "      <td>http://images.amazon.com/images/P/0812533550.0...</td>\n",
       "      <td>cincinnati, ohio, usa</td>\n",
       "      <td>23.0</td>\n",
       "    </tr>\n",
       "    <tr>\n",
       "      <th>3</th>\n",
       "      <td>2313</td>\n",
       "      <td>0679745580</td>\n",
       "      <td>8</td>\n",
       "      <td>In Cold Blood (Vintage International)</td>\n",
       "      <td>TRUMAN CAPOTE</td>\n",
       "      <td>1994</td>\n",
       "      <td>Vintage</td>\n",
       "      <td>http://images.amazon.com/images/P/0679745580.0...</td>\n",
       "      <td>http://images.amazon.com/images/P/0679745580.0...</td>\n",
       "      <td>http://images.amazon.com/images/P/0679745580.0...</td>\n",
       "      <td>cincinnati, ohio, usa</td>\n",
       "      <td>23.0</td>\n",
       "    </tr>\n",
       "    <tr>\n",
       "      <th>4</th>\n",
       "      <td>2313</td>\n",
       "      <td>0060173289</td>\n",
       "      <td>9</td>\n",
       "      <td>Divine Secrets of the Ya-Ya Sisterhood : A Novel</td>\n",
       "      <td>Rebecca Wells</td>\n",
       "      <td>1996</td>\n",
       "      <td>HarperCollins</td>\n",
       "      <td>http://images.amazon.com/images/P/0060173289.0...</td>\n",
       "      <td>http://images.amazon.com/images/P/0060173289.0...</td>\n",
       "      <td>http://images.amazon.com/images/P/0060173289.0...</td>\n",
       "      <td>cincinnati, ohio, usa</td>\n",
       "      <td>23.0</td>\n",
       "    </tr>\n",
       "    <tr>\n",
       "      <th>...</th>\n",
       "      <td>...</td>\n",
       "      <td>...</td>\n",
       "      <td>...</td>\n",
       "      <td>...</td>\n",
       "      <td>...</td>\n",
       "      <td>...</td>\n",
       "      <td>...</td>\n",
       "      <td>...</td>\n",
       "      <td>...</td>\n",
       "      <td>...</td>\n",
       "      <td>...</td>\n",
       "      <td>...</td>\n",
       "    </tr>\n",
       "    <tr>\n",
       "      <th>1031131</th>\n",
       "      <td>276442</td>\n",
       "      <td>2862749796</td>\n",
       "      <td>7</td>\n",
       "      <td>Le Huit</td>\n",
       "      <td>Katherine Neville</td>\n",
       "      <td>2002</td>\n",
       "      <td>Le Cherche Midi</td>\n",
       "      <td>http://images.amazon.com/images/P/2862749796.0...</td>\n",
       "      <td>http://images.amazon.com/images/P/2862749796.0...</td>\n",
       "      <td>http://images.amazon.com/images/P/2862749796.0...</td>\n",
       "      <td>genÃ¨ve, genÃ¨ve, switzerland</td>\n",
       "      <td>62.0</td>\n",
       "    </tr>\n",
       "    <tr>\n",
       "      <th>1031132</th>\n",
       "      <td>276618</td>\n",
       "      <td>3788097000</td>\n",
       "      <td>5</td>\n",
       "      <td>Ludwig Marum: Briefe aus dem Konzentrationslag...</td>\n",
       "      <td>Ludwig Marum</td>\n",
       "      <td>1984</td>\n",
       "      <td>C.F. MÃÂ¼ller</td>\n",
       "      <td>http://images.amazon.com/images/P/3788097000.0...</td>\n",
       "      <td>http://images.amazon.com/images/P/3788097000.0...</td>\n",
       "      <td>http://images.amazon.com/images/P/3788097000.0...</td>\n",
       "      <td>stuttgart, \\n/a\\\"., germany\"</td>\n",
       "      <td>NaN</td>\n",
       "    </tr>\n",
       "    <tr>\n",
       "      <th>1031133</th>\n",
       "      <td>276647</td>\n",
       "      <td>0553571001</td>\n",
       "      <td>0</td>\n",
       "      <td>Christmas With Anne and Other Holiday Stories:...</td>\n",
       "      <td>L. M. Montgomery</td>\n",
       "      <td>2001</td>\n",
       "      <td>Starfire</td>\n",
       "      <td>http://images.amazon.com/images/P/0553571001.0...</td>\n",
       "      <td>http://images.amazon.com/images/P/0553571001.0...</td>\n",
       "      <td>http://images.amazon.com/images/P/0553571001.0...</td>\n",
       "      <td>arlington heights, illinois, usa</td>\n",
       "      <td>13.0</td>\n",
       "    </tr>\n",
       "    <tr>\n",
       "      <th>1031134</th>\n",
       "      <td>276647</td>\n",
       "      <td>0689822294</td>\n",
       "      <td>10</td>\n",
       "      <td>Heaven (Coretta Scott King Author Award Winner)</td>\n",
       "      <td>Angela Johnson</td>\n",
       "      <td>1998</td>\n",
       "      <td>Simon &amp;amp; Schuster Children's Publishing</td>\n",
       "      <td>http://images.amazon.com/images/P/0689822294.0...</td>\n",
       "      <td>http://images.amazon.com/images/P/0689822294.0...</td>\n",
       "      <td>http://images.amazon.com/images/P/0689822294.0...</td>\n",
       "      <td>arlington heights, illinois, usa</td>\n",
       "      <td>13.0</td>\n",
       "    </tr>\n",
       "    <tr>\n",
       "      <th>1031135</th>\n",
       "      <td>276660</td>\n",
       "      <td>0583307841</td>\n",
       "      <td>8</td>\n",
       "      <td>ROBOT RACE (MICRO ADV 6)</td>\n",
       "      <td>David Antony Kroft</td>\n",
       "      <td>1985</td>\n",
       "      <td>HarperCollins Publishers</td>\n",
       "      <td>http://images.amazon.com/images/P/0583307841.0...</td>\n",
       "      <td>http://images.amazon.com/images/P/0583307841.0...</td>\n",
       "      <td>http://images.amazon.com/images/P/0583307841.0...</td>\n",
       "      <td>singapore, n/a, singapore</td>\n",
       "      <td>15.0</td>\n",
       "    </tr>\n",
       "  </tbody>\n",
       "</table>\n",
       "<p>1031136 rows × 12 columns</p>\n",
       "</div>"
      ],
      "text/plain": [
       "         User-ID        ISBN  Book-Rating  \\\n",
       "0         276725  034545104X            0   \n",
       "1           2313  034545104X            5   \n",
       "2           2313  0812533550            9   \n",
       "3           2313  0679745580            8   \n",
       "4           2313  0060173289            9   \n",
       "...          ...         ...          ...   \n",
       "1031131   276442  2862749796            7   \n",
       "1031132   276618  3788097000            5   \n",
       "1031133   276647  0553571001            0   \n",
       "1031134   276647  0689822294           10   \n",
       "1031135   276660  0583307841            8   \n",
       "\n",
       "                                                Book-Title  \\\n",
       "0                                     Flesh Tones: A Novel   \n",
       "1                                     Flesh Tones: A Novel   \n",
       "2            Ender's Game (Ender Wiggins Saga (Paperback))   \n",
       "3                    In Cold Blood (Vintage International)   \n",
       "4         Divine Secrets of the Ya-Ya Sisterhood : A Novel   \n",
       "...                                                    ...   \n",
       "1031131                                            Le Huit   \n",
       "1031132  Ludwig Marum: Briefe aus dem Konzentrationslag...   \n",
       "1031133  Christmas With Anne and Other Holiday Stories:...   \n",
       "1031134    Heaven (Coretta Scott King Author Award Winner)   \n",
       "1031135                           ROBOT RACE (MICRO ADV 6)   \n",
       "\n",
       "                Book-Author Year-Of-Publication  \\\n",
       "0                M. J. Rose                2002   \n",
       "1                M. J. Rose                2002   \n",
       "2          Orson Scott Card                1986   \n",
       "3             TRUMAN CAPOTE                1994   \n",
       "4             Rebecca Wells                1996   \n",
       "...                     ...                 ...   \n",
       "1031131   Katherine Neville                2002   \n",
       "1031132        Ludwig Marum                1984   \n",
       "1031133    L. M. Montgomery                2001   \n",
       "1031134      Angela Johnson                1998   \n",
       "1031135  David Antony Kroft                1985   \n",
       "\n",
       "                                          Publisher  \\\n",
       "0                                  Ballantine Books   \n",
       "1                                  Ballantine Books   \n",
       "2                                         Tor Books   \n",
       "3                                           Vintage   \n",
       "4                                     HarperCollins   \n",
       "...                                             ...   \n",
       "1031131                             Le Cherche Midi   \n",
       "1031132                              C.F. MÃÂ¼ller   \n",
       "1031133                                    Starfire   \n",
       "1031134  Simon &amp; Schuster Children's Publishing   \n",
       "1031135                    HarperCollins Publishers   \n",
       "\n",
       "                                               Image-URL-S  \\\n",
       "0        http://images.amazon.com/images/P/034545104X.0...   \n",
       "1        http://images.amazon.com/images/P/034545104X.0...   \n",
       "2        http://images.amazon.com/images/P/0812533550.0...   \n",
       "3        http://images.amazon.com/images/P/0679745580.0...   \n",
       "4        http://images.amazon.com/images/P/0060173289.0...   \n",
       "...                                                    ...   \n",
       "1031131  http://images.amazon.com/images/P/2862749796.0...   \n",
       "1031132  http://images.amazon.com/images/P/3788097000.0...   \n",
       "1031133  http://images.amazon.com/images/P/0553571001.0...   \n",
       "1031134  http://images.amazon.com/images/P/0689822294.0...   \n",
       "1031135  http://images.amazon.com/images/P/0583307841.0...   \n",
       "\n",
       "                                               Image-URL-M  \\\n",
       "0        http://images.amazon.com/images/P/034545104X.0...   \n",
       "1        http://images.amazon.com/images/P/034545104X.0...   \n",
       "2        http://images.amazon.com/images/P/0812533550.0...   \n",
       "3        http://images.amazon.com/images/P/0679745580.0...   \n",
       "4        http://images.amazon.com/images/P/0060173289.0...   \n",
       "...                                                    ...   \n",
       "1031131  http://images.amazon.com/images/P/2862749796.0...   \n",
       "1031132  http://images.amazon.com/images/P/3788097000.0...   \n",
       "1031133  http://images.amazon.com/images/P/0553571001.0...   \n",
       "1031134  http://images.amazon.com/images/P/0689822294.0...   \n",
       "1031135  http://images.amazon.com/images/P/0583307841.0...   \n",
       "\n",
       "                                               Image-URL-L  \\\n",
       "0        http://images.amazon.com/images/P/034545104X.0...   \n",
       "1        http://images.amazon.com/images/P/034545104X.0...   \n",
       "2        http://images.amazon.com/images/P/0812533550.0...   \n",
       "3        http://images.amazon.com/images/P/0679745580.0...   \n",
       "4        http://images.amazon.com/images/P/0060173289.0...   \n",
       "...                                                    ...   \n",
       "1031131  http://images.amazon.com/images/P/2862749796.0...   \n",
       "1031132  http://images.amazon.com/images/P/3788097000.0...   \n",
       "1031133  http://images.amazon.com/images/P/0553571001.0...   \n",
       "1031134  http://images.amazon.com/images/P/0689822294.0...   \n",
       "1031135  http://images.amazon.com/images/P/0583307841.0...   \n",
       "\n",
       "                                 Location   Age  \n",
       "0                       tyler, texas, usa   NaN  \n",
       "1                   cincinnati, ohio, usa  23.0  \n",
       "2                   cincinnati, ohio, usa  23.0  \n",
       "3                   cincinnati, ohio, usa  23.0  \n",
       "4                   cincinnati, ohio, usa  23.0  \n",
       "...                                   ...   ...  \n",
       "1031131     genÃ¨ve, genÃ¨ve, switzerland  62.0  \n",
       "1031132      stuttgart, \\n/a\\\"., germany\"   NaN  \n",
       "1031133  arlington heights, illinois, usa  13.0  \n",
       "1031134  arlington heights, illinois, usa  13.0  \n",
       "1031135         singapore, n/a, singapore  15.0  \n",
       "\n",
       "[1031136 rows x 12 columns]"
      ]
     },
     "execution_count": 2,
     "metadata": {},
     "output_type": "execute_result"
    }
   ],
   "source": [
    "book_df = pd.read_csv(\"Ratings.csv\")\n",
    "book_df"
   ]
  },
  {
   "cell_type": "code",
   "execution_count": 3,
   "id": "6d8284aa-82f8-4ae9-888b-4a5a4d33961f",
   "metadata": {},
   "outputs": [
    {
     "name": "stdout",
     "output_type": "stream",
     "text": [
      "<class 'pandas.core.frame.DataFrame'>\n",
      "RangeIndex: 1031136 entries, 0 to 1031135\n",
      "Data columns (total 12 columns):\n",
      " #   Column               Non-Null Count    Dtype  \n",
      "---  ------               --------------    -----  \n",
      " 0   User-ID              1031136 non-null  int64  \n",
      " 1   ISBN                 1031136 non-null  object \n",
      " 2   Book-Rating          1031136 non-null  int64  \n",
      " 3   Book-Title           1031136 non-null  object \n",
      " 4   Book-Author          1031134 non-null  object \n",
      " 5   Year-Of-Publication  1031136 non-null  object \n",
      " 6   Publisher            1031134 non-null  object \n",
      " 7   Image-URL-S          1031136 non-null  object \n",
      " 8   Image-URL-M          1031136 non-null  object \n",
      " 9   Image-URL-L          1031132 non-null  object \n",
      " 10  Location             1031136 non-null  object \n",
      " 11  Age                  753301 non-null   float64\n",
      "dtypes: float64(1), int64(2), object(9)\n",
      "memory usage: 94.4+ MB\n"
     ]
    }
   ],
   "source": [
    "book_df.info()"
   ]
  },
  {
   "cell_type": "markdown",
   "id": "7504ab59-6c70-46a9-b741-2659ccabc86c",
   "metadata": {},
   "source": [
    "#### Observation\n",
    "- there are no null values\n",
    "- there are three data types: float int object"
   ]
  },
  {
   "cell_type": "code",
   "execution_count": 5,
   "id": "799d3a08-539d-4ecf-951f-88983fcda0e2",
   "metadata": {},
   "outputs": [
    {
     "data": {
      "text/plain": [
       "User-ID                     0\n",
       "ISBN                        0\n",
       "Book-Rating                 0\n",
       "Book-Title                  0\n",
       "Book-Author                 2\n",
       "Year-Of-Publication         0\n",
       "Publisher                   2\n",
       "Image-URL-S                 0\n",
       "Image-URL-M                 0\n",
       "Image-URL-L                 4\n",
       "Location                    0\n",
       "Age                    277835\n",
       "dtype: int64"
      ]
     },
     "execution_count": 5,
     "metadata": {},
     "output_type": "execute_result"
    }
   ],
   "source": [
    "book_df.isnull().sum()"
   ]
  },
  {
   "cell_type": "markdown",
   "id": "9cfc7847-c1b5-4ad9-8166-deda52783304",
   "metadata": {},
   "source": [
    "#### Observations\n",
    "- there are missing values in book-author,publisher and age\n",
    "- there are no duplicated values"
   ]
  },
  {
   "cell_type": "code",
   "execution_count": 29,
   "id": "ebf0a2c4-3c21-40d1-aa73-471f295f6b22",
   "metadata": {},
   "outputs": [
    {
     "data": {
      "text/plain": [
       "0          False\n",
       "1          False\n",
       "2          False\n",
       "3          False\n",
       "4          False\n",
       "           ...  \n",
       "1031131    False\n",
       "1031132    False\n",
       "1031133    False\n",
       "1031134    False\n",
       "1031135    False\n",
       "Length: 1031136, dtype: bool"
      ]
     },
     "execution_count": 29,
     "metadata": {},
     "output_type": "execute_result"
    }
   ],
   "source": [
    "book_df.duplicated()"
   ]
  },
  {
   "cell_type": "code",
   "execution_count": 18,
   "id": "c34bb790-268b-43d0-94c8-5d216397e044",
   "metadata": {},
   "outputs": [
    {
     "data": {
      "text/plain": [
       "<Axes: >"
      ]
     },
     "execution_count": 18,
     "metadata": {},
     "output_type": "execute_result"
    },
    {
     "data": {
      "image/png": "[encoded data removed]",
      "text/plain": [
       "<Figure size 640x480 with 2 Axes>"
      ]
     },
     "metadata": {},
     "output_type": "display_data"
    }
   ],
   "source": [
    "cols=book_df.columns\n",
    "colors=['black','yellow']\n",
    "sns.heatmap(book_df[cols].isnull(),cmap=sns.color_palette(colors),cbar=True)"
   ]
  },
  {
   "cell_type": "code",
   "execution_count": 24,
   "id": "04949b29-0903-45ed-a429-99ca984b899a",
   "metadata": {},
   "outputs": [
    {
     "name": "stdout",
     "output_type": "stream",
     "text": [
      "Median of Book-Rating:  0.0\n",
      "Mean of Book-Rating:  2.839051298761754\n"
     ]
    }
   ],
   "source": [
    "median_Book_Rating = book_df[\"Book-Rating\"].median()\n",
    "mean_Book_Rating=book_df[\"Book-Rating\"].mean()\n",
    "print(\"Median of Book-Rating: \", median_Book_Rating)\n",
    "print(\"Mean of Book-Rating: \", mean_Book_Rating)"
   ]
  },
  {
   "cell_type": "code",
   "execution_count": 26,
   "id": "de274832-ccfc-409c-ad6e-86fc8d681756",
   "metadata": {},
   "outputs": [
    {
     "data": {
      "text/plain": [
       "User-ID                     0\n",
       "ISBN                        0\n",
       "Book-Rating                 0\n",
       "Book-Title                  0\n",
       "Book-Author                 2\n",
       "Year-Of-Publication         0\n",
       "Publisher                   2\n",
       "Image-URL-S                 0\n",
       "Image-URL-M                 0\n",
       "Image-URL-L                 4\n",
       "Location                    0\n",
       "Age                    277835\n",
       "dtype: int64"
      ]
     },
     "execution_count": 26,
     "metadata": {},
     "output_type": "execute_result"
    }
   ],
   "source": [
    "book_df['Book-Rating']=book_df['Book-Rating'].fillna(median_Book_Rating)\n",
    "book_df.isnull().sum()"
   ]
  },
  {
   "cell_type": "code",
   "execution_count": null,
   "id": "adcb9689-7827-4f92-a379-fb8f9fcd1090",
   "metadata": {},
   "outputs": [],
   "source": []
  }
 ],
 "metadata": {
  "kernelspec": {
   "display_name": "Python [conda env:base] *",
   "language": "python",
   "name": "conda-base-py"
  },
  "language_info": {
   "codemirror_mode": {
    "name": "ipython",
    "version": 3
   },
   "file_extension": ".py",
   "mimetype": "text/x-python",
   "name": "python",
   "nbconvert_exporter": "python",
   "pygments_lexer": "ipython3",
   "version": "3.12.7"
  }
 },
 "nbformat": 4,
 "nbformat_minor": 5
}
